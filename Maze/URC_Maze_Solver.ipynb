{
 "cells": [
  {
   "cell_type": "markdown",
   "metadata": {},
   "source": [
    "<div style=\"width: 50%; margin: 0 auto;\">\n",
    "\n",
    "# Maze Solving Workshop:\n",
    "### *Presented by the WVU University Rover Challenge Team*\n",
    "*By: Nathan Adkins*\n",
    "\n",
    "<br>\n",
    "\n",
    "# Outline:\n",
    "\n",
    "### Part 0: Defining the Maze and the Robot \n",
    "### Part 1: Learning Robot Operation\n",
    "### Part 2: First Algorithmic Maze Solver\n",
    "### Part 3: Non-Continuous Maze Solver\n",
    "### Part 4: Try at Home: Dijkstra's Shortest Path"
   ]
  },
  {
   "cell_type": "markdown",
   "metadata": {},
   "source": [
    "<div style=\"max-width: 33%\">\n",
    "\n",
    "# Part 0: Defining the Maze and the Robot \n",
    "\n",
    "In the code below, the *Maze* class defines the maze the robot will be traversing. The maze is constituted by a 2 dimensional grid of cells. Each cell has a state indicating a quality about the cell. The maze has 2 primary states with 4 other states. The states indicate information about individual cells in the maze.\n",
    "\n",
    "Here are the states of the maze:\n",
    "- *UNPOPULATED*\n",
    "- *POPULATED*\n",
    "- *GOAL*\n",
    "- *ROBOT*\n",
    "- *PATH*\n",
    "- *ROBOT_AT_GOAL*\n",
    "\n",
    "Now that we have the states of the maze defined, we can generate mazes using the *UNPOPULATED* and *POPULATED* states. These states will describe the travserable and non-travserable portions of the maze. For each of the activities in this notebook, algorithms will be tested on pre-made mazes. Optionally, to be able to test the robustness of the maze solving algorithms, a [recursive backtracking](https://en.wikipedia.org/wiki/Backtracking) depth first search algorithm has been implemented to generate random mazes. \n",
    "\n",
    "Ironically, similar mathematical techniques can be leveraged to solve mazes. Recursive backtracking is commonly used in game theory, [combinatorial optimization](https://en.wikipedia.org/wiki/Combinatorial_optimization), and in solving Sudoku.\n",
    "Note:<br>\n",
    "Normal Python code does not look like this. The code block below has been condensed to save space in this notebook. However, the more visually organized code can be found in organized_maze_code.py.\n",
    "\n",
    "</div>"
   ]
  },
  {
   "cell_type": "code",
   "execution_count": null,
   "metadata": {},
   "outputs": [
    {
     "ename": "",
     "evalue": "",
     "output_type": "error",
     "traceback": [
      "\u001b[1;31mRunning cells with 'base (Python 3.11.5)' requires the ipykernel package.\n",
      "\u001b[1;31mRun the following command to install 'ipykernel' into the Python environment. \n",
      "\u001b[1;31mCommand: 'conda install -n base ipykernel --update-deps --force-reinstall'"
     ]
    }
   ],
   "source": [
    "import random, time, math\n",
    "import numpy as np \n",
    "import tkinter as tk\n",
    "from typing import Callable\n",
    "from os import system, name\n",
    "\n",
    "def clear_terminal_output():\n",
    "    if name == 'nt': system('cls')\n",
    "    else: system('clear')\n",
    "    \n",
    "class Maze:\n",
    "    UNPOPULATED = 0\n",
    "    POPULATED = 1\n",
    "    GOAL = 3\n",
    "    ROBOT = 4 \n",
    "    PATH = 5\n",
    "    ROBOT_AT_GOAL = 6\n",
    "    COLORS = {\n",
    "        UNPOPULATED: '#ffffff',\n",
    "        POPULATED: '#757575',\n",
    "        GOAL: '#cc0000',\n",
    "        ROBOT: '#6a7b8b',\n",
    "        PATH: '#c0d7ec',\n",
    "        ROBOT_AT_GOAL: '#9B3E46',\n",
    "    }\n",
    "    DEFAULT_WINDOW_WIDTH_PX = 1000\n",
    "    def __init__(self, size: int, algorithm_to_run: Callable, gui_title: str):\n",
    "        clear_terminal_output()\n",
    "        def algorithm_runner_wrapper(algorithm_to_run):\n",
    "            self.run_algorithm_button.config(state=tk.DISABLED)\n",
    "            try: algorithm_to_run()\n",
    "            except Exception as exception: print(exception); print(\"To restart, close the maze window\")\n",
    "        def _depth_first_search_maze(x, y) -> None:\n",
    "            directions = [(0, 2), (2, 0), (0, -2), (-2, 0)]\n",
    "            random.shuffle(directions)\n",
    "            for dx, dy in directions:\n",
    "                nx, ny = x + dx, y + dy\n",
    "                if 0 <= nx < self.size and 0 <= ny < self.size and self.maze_state[nx, ny] == self.POPULATED:\n",
    "                    self.maze_state[x + dx // 2][y + dy // 2] = self.UNPOPULATED\n",
    "                    self.maze_state[nx, ny] = self.UNPOPULATED\n",
    "                    _depth_first_search_maze(nx, ny)\n",
    "        self.size = size\n",
    "        self.rectangles = {}\n",
    "        self.maze_state = np.full((size, size), self.POPULATED)\n",
    "        _depth_first_search_maze(0,0)\n",
    "        self.DEFAULT_PIXELS_PER_MAZE_CELL = math.ceil(self.DEFAULT_WINDOW_WIDTH_PX / self.size)\n",
    "        self.maze_gui = tk.Tk(); self.maze_gui.title(gui_title)\n",
    "        self.frame = tk.Frame(self.maze_gui); self.frame.pack(pady=10, padx=10)\n",
    "        self.run_algorithm_button = tk.Button(self.maze_gui, text=\"Run Algorithm\", command= lambda: algorithm_runner_wrapper(algorithm_to_run)); self.run_algorithm_button.config(state=tk.DISABLED); self.run_algorithm_button.pack()\n",
    "        self.canvas = tk.Canvas(self.frame, width=self.size * self.DEFAULT_PIXELS_PER_MAZE_CELL, height=self.size * self.DEFAULT_PIXELS_PER_MAZE_CELL); self.canvas.pack()\n",
    "        self.speed_slider = tk.Scale(self.frame, from_=1, to=100, orient=tk.HORIZONTAL, label=\"Speed multiplier\"); self.speed_slider.set(1); self.speed_slider.pack(fill=tk.X)\n",
    "        self.update_gui()\n",
    "    def update_gui(self) -> None:\n",
    "        unit_size = self.DEFAULT_PIXELS_PER_MAZE_CELL\n",
    "        for row in range(self.size):\n",
    "            for col in range(self.size):\n",
    "                x1, y1, x2, y2 = col * unit_size, row * unit_size, col * unit_size + unit_size, row * unit_size + unit_size\n",
    "                cell_value = self.maze_state[row, col]\n",
    "                if (row, col) not in self.rectangles: self.rectangles[(row, col)] = self.canvas.create_rectangle(x1, y1, x2, y2, fill=self.COLORS[cell_value], outline=\"black\")\n",
    "                else: self.canvas.itemconfig(self.rectangles[(row, col)], fill=self.COLORS[cell_value])\n",
    "        self.maze_gui.update()\n",
    "    def _make_empty(self):\n",
    "        self.maze_state = np.zeros((self.size,self.size))\n",
    "class Robot():\n",
    "    DEFAULT_LOAD_DELAY_SEC = 0.2\n",
    "    DEFAULT_MOVEMENT_TIME_STEP_SEC = 0.1\n",
    "    def calc_position(position, movement): return [tuple(map(sum, zip(position, movement)))]\n",
    "    def _is_valid_position(self, proposed_position: tuple[int]) -> bool: return all([0 <= coord < self.maze.size for coord in proposed_position]) and (len(proposed_position) == 2)\n",
    "    def _is_free_space(self, proposed_position: tuple[int]) -> bool: return (self.maze.maze_state[proposed_position] != self.maze.POPULATED)\n",
    "\n",
    "    def is_valid_movement(self, movement_delta) -> bool:\n",
    "        proposed_new_position = tuple(map(sum, zip(self.current_position, movement_delta))) \n",
    "        return self._is_free_space(proposed_new_position) and self._is_valid_position(proposed_new_position)\n",
    "    \n",
    "    def _update_maze_gui(self, updated_position: tuple[int], updated_maze_state):\n",
    "        if self._is_valid_position(updated_position): self.maze.maze_state[updated_position] = updated_maze_state; self.maze.update_gui()\n",
    "        else: raise ValueError(f\"The value of the updated maze position {updated_position} is not within the maze\")\n",
    "    def __init__(self, maze: Maze, start_position: tuple[int], goal_position: tuple[int]):\n",
    "        def _load_delay(): time.sleep(self.DEFAULT_LOAD_DELAY_SEC)\n",
    "        self.maze = maze\n",
    "        self.current_position = start_position\n",
    "        self.right_from_robot = self.maze.maze_state[tuple(map(sum, zip(self.current_position, (0,1))))]\n",
    "        self.left_from_robot = self.maze.maze_state[tuple(map(sum, zip(self.current_position, (0,-1))))]\n",
    "        self.down_from_robot = self.maze.maze_state[tuple(map(sum, zip(self.current_position, (1,0))))]\n",
    "        self.up_from_robot = self.maze.maze_state[tuple(map(sum, zip(self.current_position, (-1,0))))]\n",
    "        try:\n",
    "            self.at_goal = False\n",
    "\n",
    "            self.maze_down_state = self.maze_up_state = self.maze.maze_state[tuple(map(sum, zip(self.current_position, (-1,0))))]\n",
    "            if self._is_valid_position(start_position): self.start_position = start_position\n",
    "            else: raise ValueError(f\"The start position of the robot {start_position} is not within it's maze\")\n",
    "            if self._is_valid_position(goal_position): self.goal_position = goal_position\n",
    "            else: raise ValueError(f\"The goal position of the robot {goal_position} is not within it's maze\")\n",
    "            \n",
    "            _load_delay(); self._update_maze_gui(self.goal_position, self.maze.GOAL)\n",
    "            _load_delay(); self._update_maze_gui(self.current_position, self.maze.ROBOT)\n",
    "            self.maze.run_algorithm_button.config(state=tk.NORMAL)\n",
    "        except tk.TclError: print(\"There was an error with the maze window. Please run the code again\")\n",
    "    def _move(self, movement_delta: tuple[int]) -> bool:\n",
    "        proposed_new_position = tuple(map(sum, zip(self.current_position, movement_delta)))\n",
    "        if self.is_valid_movement(proposed_new_position): \n",
    "            old_position = self.current_position; self.current_position = proposed_new_position\n",
    "            time.sleep( self.DEFAULT_MOVEMENT_TIME_STEP_SEC /(self.maze.speed_slider.get()))\n",
    "            if old_position == self.start_position: self._update_maze_gui(old_position, self.maze.PATH)\n",
    "            else: self._update_maze_gui(old_position, self.maze.PATH)\n",
    "            if self.current_position == self.goal_position: self.at_goal = True; self._update_maze_gui(self.current_position,self.maze.ROBOT_AT_GOAL); print(\"\\nThe robot has reached the goal\\n\")\n",
    "            else: self._update_maze_gui(self.current_position,self.maze.ROBOT)\n",
    "        else: movement_delta_dict = { (0,1) : 'right', (0,-1) : 'left', (-1,0) : 'up', (1,0) : 'down',}; raise ValueError(f\"The robot tried moving {movement_delta_dict[movement_delta]}. This movement is not valid given the robot's current position\")\n",
    "    def move_right(self): self._move((0,1))\n",
    "    def move_left(self): self._move((0,-1))\n",
    "    def move_down(self): self._move((1,0))\n",
    "    def move_up(self): self._move((-1,0))"
   ]
  },
  {
   "cell_type": "markdown",
   "metadata": {},
   "source": [
    "<div style=\"max-width: 33%\">\n",
    "\n",
    "# Part 1: Learning Robot Operation\n",
    "\n",
    "Now that the Maze and Robot are defined, the Robot can be used to travserse the maze.\n",
    "\n",
    "The maze_state contains values corresponding to one of the states mentioned in part 0 for each of the cells in the maze and are able to be accessed.\n",
    "\n",
    "The following methods can be used to control the robot in the maze.\n",
    "- *move_up*\n",
    "- *move_down*\n",
    "- *move_left*\n",
    "- *move_right*\n",
    "\n",
    "The text output below the code block will display error messages. Additionally, the Part 0 code before testing code or algorithms in subsequent parts.\n",
    "\n",
    "</div>"
   ]
  },
  {
   "cell_type": "code",
   "execution_count": 2,
   "metadata": {},
   "outputs": [
    {
     "name": "stdout",
     "output_type": "stream",
     "text": [
      "\u001b[H\u001b[2J"
     ]
    },
    {
     "name": "stdout",
     "output_type": "stream",
     "text": [
      "index 11 is out of bounds for axis 0 with size 11\n",
      "To restart, close the maze window\n"
     ]
    }
   ],
   "source": [
    "def main():\n",
    "\n",
    "    def part1_example_algorithm():\n",
    "        while not robot.at_goal:\n",
    "            robot.move_down()\n",
    "            robot.move_right()        \n",
    "            \n",
    "    part1_maze_size = 11\n",
    "    maze = Maze(part1_maze_size, part1_example_algorithm, \"Part 1\")\n",
    "    maze._make_empty()\n",
    "    robot = Robot(maze,(0,0),(part1_maze_size - 1, part1_maze_size - 1))\n",
    "    maze.maze_gui.mainloop()\n",
    "\n",
    "if __name__ == '__main__':\n",
    "    main()"
   ]
  },
  {
   "cell_type": "markdown",
   "metadata": {},
   "source": [
    "# Part 2: First Algorithmic Maze Solver\n",
    "\n",
    "<div style=\"max-width: 33%\">\n",
    "\n",
    "As you probably noticed in the previous part, handwriting code is annoying, time consuming, and does allow the robot to adapt. Ideally, when writing algorithms for path planning, you want to minimize the number of portions of code that make calls to control the robot. The general idea is to have a check on conditions about the environment that dictate where the robot goes. \n",
    "\n",
    "In this next part, we will be leveraging this idea to create an algorithm to solve the maze.\n",
    "\n",
    "</div>"
   ]
  },
  {
   "cell_type": "code",
   "execution_count": 3,
   "metadata": {},
   "outputs": [
    {
     "name": "stdout",
     "output_type": "stream",
     "text": [
      "\u001b[H\u001b[2Jindex 11 is out of bounds for axis 0 with size 11\n",
      "To restart, close the maze window\n"
     ]
    }
   ],
   "source": [
    "def main():\n",
    "\n",
    "    def part2_algorithm():\n",
    "\n",
    "        right = (0,1)\n",
    "        left = (0,-1)\n",
    "        down = (1,0)\n",
    "        up = (-1,0)\n",
    "\n",
    "        if robot.is_valid_movement(right):\n",
    "            robot.move_right()\n",
    "            last_movement = right\n",
    "\n",
    "        elif robot.is_valid_movement(left):\n",
    "            robot.move_left()\n",
    "            last_movement = left\n",
    "\n",
    "        elif robot.is_valid_movement(down):\n",
    "            robot.move_down()\n",
    "            last_movement = down\n",
    "\n",
    "        elif robot.is_valid_movement(up):\n",
    "            robot.move_up()\n",
    "            last_movement = up\n",
    "\n",
    "\n",
    "        while robot.is_valid_movement(last_movement):\n",
    "            robot.move_down()\n",
    "            pass\n",
    "\n",
    "        \n",
    "\n",
    "    maze = Maze(11, part2_algorithm, \"Part 2\")\n",
    "    maze.maze_state = np.array([ \n",
    "        [0,1,0,0,0,1,0,0,0,0,0],\n",
    "        [0,1,0,1,0,1,0,0,1,1,1],\n",
    "        [0,1,0,1,0,1,1,0,1,0,0],\n",
    "        [0,1,0,1,0,0,0,0,1,1,0],\n",
    "        [0,1,0,1,1,1,1,0,0,0,0],\n",
    "        [0,1,0,0,0,0,1,0,1,1,0],\n",
    "        [0,1,1,1,1,0,1,0,1,0,0],\n",
    "        [0,0,0,0,0,0,1,0,1,0,1],\n",
    "        [0,1,1,1,1,0,1,0,1,0,1],\n",
    "        [0,1,0,0,0,0,1,0,1,0,1],\n",
    "        [0,1,0,1,1,1,1,0,1,0,0],])\n",
    "       \n",
    "    robot = Robot(maze,(0,0),(10,10))\n",
    "    maze.maze_gui.mainloop()\n",
    "\n",
    "if __name__ == '__main__':\n",
    "    main()"
   ]
  },
  {
   "cell_type": "markdown",
   "metadata": {},
   "source": [
    "# Part 3: Non-Continuous Maze Solver\n",
    "\n",
    "<div style=\"max-width: 33%\">\n",
    "\n",
    "</div>"
   ]
  },
  {
   "cell_type": "code",
   "execution_count": 4,
   "metadata": {},
   "outputs": [
    {
     "name": "stdout",
     "output_type": "stream",
     "text": [
      "\u001b[H\u001b[2JThe robot tried moving right. This movement is not valid given the robot's current position\n",
      "To restart, close the maze window\n"
     ]
    }
   ],
   "source": [
    "def main():\n",
    "\n",
    "    def testing():\n",
    "        while not robot.at_goal:\n",
    "            robot.move_down()\n",
    "            robot.move_right()\n",
    "\n",
    "    maze = Maze(51, testing, \"Part 3\")\n",
    "    robot = Robot(maze,(0,0),(50,50))\n",
    "    maze.maze_gui.mainloop()\n",
    "\n",
    "if __name__ == '__main__':\n",
    "    main()"
   ]
  },
  {
   "cell_type": "markdown",
   "metadata": {},
   "source": [
    "# Part 4: Try at Home: Dijkstra's Shortest Path\n",
    "\n",
    "<div style=\"max-width: 33%\">\n",
    "\n",
    "</div>"
   ]
  },
  {
   "cell_type": "code",
   "execution_count": 5,
   "metadata": {},
   "outputs": [
    {
     "name": "stdout",
     "output_type": "stream",
     "text": [
      "\u001b[H\u001b[2J"
     ]
    }
   ],
   "source": [
    "def main():\n",
    "\n",
    "    def testing():\n",
    "        while not robot.at_goal:\n",
    "            robot.move_down()\n",
    "            robot.move_right()\n",
    "\n",
    "    maze = Maze(51, testing, \"Part 4\")\n",
    "    robot = Robot(maze,(0,0),(50,50))\n",
    "    maze.maze_gui.mainloop()\n",
    "\n",
    "if __name__ == '__main__':\n",
    "    main()"
   ]
  }
 ],
 "metadata": {
  "kernelspec": {
   "display_name": "base",
   "language": "python",
   "name": "python3"
  },
  "language_info": {
   "codemirror_mode": {
    "name": "ipython",
    "version": 3
   },
   "file_extension": ".py",
   "mimetype": "text/x-python",
   "name": "python",
   "nbconvert_exporter": "python",
   "pygments_lexer": "ipython3",
   "version": "3.11.5"
  }
 },
 "nbformat": 4,
 "nbformat_minor": 2
}
